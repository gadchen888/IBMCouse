{
    "nbformat_minor": 1, 
    "cells": [
        {
            "source": "# Title: Where to open a restaurant in Manhattan, New York", 
            "cell_type": "markdown", 
            "metadata": {
                "collapsed": true
            }
        }, 
        {
            "source": "### The description of the problem and a discussion of the background. \n\nFor the City of Manhattan, New York, if someone is looking to open a restaurant, where would you recommend that they open it?\n\nOpening a restaurant is related to many decisions, such as finance, Operation, Equipment, Permit and location.\nLocation plays the key role of final decision.\n\nIs this location suitable for my concept?\nWhat is the population base of this area?\nHow many restaurants around my location?\nHow many customers can I expect?\nWhat is the traffic in my location area?\n\nSo the purpose of this project is to explore using location data from Foursquare location data,\nOpen Data and Google Map to answer some of above questions?\n\ne.g. How are neighbourhoods in Manhattan?\n\nHow many restaurants in Manhattan?\n\nHow those restaurants are distributed in each neighbourhood?\n\nWhere are those restaurants by location ?\n\nIs there any geographical location pattern for those restaurants?\n\nWhere are potential locations if Opening a restaurant?\n\nIs the neighbourhood's population related to restaurant's numbers?\n\n\n### The description of the data and how it will be used to solve the problem. \n\nNeighbourhood data for City of Manhattan:\nData Source: https://cocl.us/new_york_dataset\nNeed to clean data to get Manhattan's all of Neighbourhood's name, Latitude and Longitude information. \n\nRestaurant data for City of Manhattan:\n    \nUse Neighbourhood data above with Foursquare API to get all those venues in each Neighbourhood.\n\nNeed to clean data to get all of venues related to restaurant.\n\nSo here the first question is what could be considered a restaurant?\n\nhttps://en.wikipedia.org/wiki/Types_of_restaurants\n\nSo Coffee and Donut will obviously not to be considered a restaurant. \n\nThe most difficult one: Is Pizza considered a restaurant?\n\n\nNeighbourhood Population data for City of Manhattan:\n    \nData Source: https: www.worldatlas.com/articles/manhattan-neighborhoods-by-population.html\n        \nData scraping and cleaning\n\nRestaurant data and Neighbourhood Population data will be used to explore if there is a relationship between populations and Restaurant numbers\n \n\nManhattan subway station location:\n    \nData Source:https://data.cityofnewyork.us/Transportation/Subway-Stations/arq3-7z49\n        \nData scraping and cleaning\n\nThis data set will be used to visaulize if some Restaurants are close to stations!\n\n\n#### Because of this project is related to course with limited time and resources, e.g. restaurant rating, demographic information, US census data and others will not be used here !  \n\n\n#### Thanks a lot for reading this!!!", 
            "cell_type": "markdown", 
            "metadata": {}
        }, 
        {
            "execution_count": null, 
            "cell_type": "code", 
            "metadata": {}, 
            "outputs": [], 
            "source": ""
        }
    ], 
    "metadata": {
        "kernelspec": {
            "display_name": "Python 3.5", 
            "name": "python3", 
            "language": "python"
        }, 
        "language_info": {
            "mimetype": "text/x-python", 
            "nbconvert_exporter": "python", 
            "version": "3.5.5", 
            "name": "python", 
            "file_extension": ".py", 
            "pygments_lexer": "ipython3", 
            "codemirror_mode": {
                "version": 3, 
                "name": "ipython"
            }
        }
    }, 
    "nbformat": 4
}